{
 "cells": [
  {
   "cell_type": "code",
   "execution_count": 1,
   "metadata": {
    "_cell_guid": "b1076dfc-b9ad-4769-8c92-a6c4dae69d19",
    "_uuid": "8f2839f25d086af736a60e9eeb907d3b93b6e0e5",
    "execution": {
     "iopub.execute_input": "2022-04-05T12:26:53.157379Z",
     "iopub.status.busy": "2022-04-05T12:26:53.157091Z",
     "iopub.status.idle": "2022-04-05T12:26:53.168443Z",
     "shell.execute_reply": "2022-04-05T12:26:53.167600Z",
     "shell.execute_reply.started": "2022-04-05T12:26:53.157346Z"
    }
   },
   "outputs": [],
   "source": [
    "import numpy as np # linear algebra\n",
    "import pandas as pd # data processing, CSV file I/O (e.g. pd.read_csv)"
   ]
  },
  {
   "cell_type": "code",
   "execution_count": 2,
   "metadata": {
    "execution": {
     "iopub.execute_input": "2022-04-05T12:27:28.432302Z",
     "iopub.status.busy": "2022-04-05T12:27:28.431775Z",
     "iopub.status.idle": "2022-04-05T12:27:28.447048Z",
     "shell.execute_reply": "2022-04-05T12:27:28.446560Z",
     "shell.execute_reply.started": "2022-04-05T12:27:28.432258Z"
    }
   },
   "outputs": [],
   "source": [
    "df = pd.read_csv('BankNote_Authentication.csv')"
   ]
  },
  {
   "cell_type": "code",
   "execution_count": 3,
   "metadata": {
    "execution": {
     "iopub.execute_input": "2022-04-05T12:27:38.739916Z",
     "iopub.status.busy": "2022-04-05T12:27:38.739076Z",
     "iopub.status.idle": "2022-04-05T12:27:38.759219Z",
     "shell.execute_reply": "2022-04-05T12:27:38.758521Z",
     "shell.execute_reply.started": "2022-04-05T12:27:38.739880Z"
    }
   },
   "outputs": [
    {
     "data": {
      "text/html": [
       "<div>\n",
       "<style scoped>\n",
       "    .dataframe tbody tr th:only-of-type {\n",
       "        vertical-align: middle;\n",
       "    }\n",
       "\n",
       "    .dataframe tbody tr th {\n",
       "        vertical-align: top;\n",
       "    }\n",
       "\n",
       "    .dataframe thead th {\n",
       "        text-align: right;\n",
       "    }\n",
       "</style>\n",
       "<table border=\"1\" class=\"dataframe\">\n",
       "  <thead>\n",
       "    <tr style=\"text-align: right;\">\n",
       "      <th></th>\n",
       "      <th>variance</th>\n",
       "      <th>skewness</th>\n",
       "      <th>curtosis</th>\n",
       "      <th>entropy</th>\n",
       "      <th>class</th>\n",
       "    </tr>\n",
       "  </thead>\n",
       "  <tbody>\n",
       "    <tr>\n",
       "      <th>0</th>\n",
       "      <td>3.62160</td>\n",
       "      <td>8.6661</td>\n",
       "      <td>-2.8073</td>\n",
       "      <td>-0.44699</td>\n",
       "      <td>0</td>\n",
       "    </tr>\n",
       "    <tr>\n",
       "      <th>1</th>\n",
       "      <td>4.54590</td>\n",
       "      <td>8.1674</td>\n",
       "      <td>-2.4586</td>\n",
       "      <td>-1.46210</td>\n",
       "      <td>0</td>\n",
       "    </tr>\n",
       "    <tr>\n",
       "      <th>2</th>\n",
       "      <td>3.86600</td>\n",
       "      <td>-2.6383</td>\n",
       "      <td>1.9242</td>\n",
       "      <td>0.10645</td>\n",
       "      <td>0</td>\n",
       "    </tr>\n",
       "    <tr>\n",
       "      <th>3</th>\n",
       "      <td>3.45660</td>\n",
       "      <td>9.5228</td>\n",
       "      <td>-4.0112</td>\n",
       "      <td>-3.59440</td>\n",
       "      <td>0</td>\n",
       "    </tr>\n",
       "    <tr>\n",
       "      <th>4</th>\n",
       "      <td>0.32924</td>\n",
       "      <td>-4.4552</td>\n",
       "      <td>4.5718</td>\n",
       "      <td>-0.98880</td>\n",
       "      <td>0</td>\n",
       "    </tr>\n",
       "  </tbody>\n",
       "</table>\n",
       "</div>"
      ],
      "text/plain": [
       "   variance  skewness  curtosis  entropy  class\n",
       "0   3.62160    8.6661   -2.8073 -0.44699      0\n",
       "1   4.54590    8.1674   -2.4586 -1.46210      0\n",
       "2   3.86600   -2.6383    1.9242  0.10645      0\n",
       "3   3.45660    9.5228   -4.0112 -3.59440      0\n",
       "4   0.32924   -4.4552    4.5718 -0.98880      0"
      ]
     },
     "execution_count": 3,
     "metadata": {},
     "output_type": "execute_result"
    }
   ],
   "source": [
    "df.head()"
   ]
  },
  {
   "cell_type": "code",
   "execution_count": 4,
   "metadata": {
    "execution": {
     "iopub.execute_input": "2022-04-05T12:27:54.559165Z",
     "iopub.status.busy": "2022-04-05T12:27:54.558666Z",
     "iopub.status.idle": "2022-04-05T12:27:54.581028Z",
     "shell.execute_reply": "2022-04-05T12:27:54.580295Z",
     "shell.execute_reply.started": "2022-04-05T12:27:54.559128Z"
    }
   },
   "outputs": [
    {
     "name": "stdout",
     "output_type": "stream",
     "text": [
      "<class 'pandas.core.frame.DataFrame'>\n",
      "RangeIndex: 1372 entries, 0 to 1371\n",
      "Data columns (total 5 columns):\n",
      " #   Column    Non-Null Count  Dtype  \n",
      "---  ------    --------------  -----  \n",
      " 0   variance  1372 non-null   float64\n",
      " 1   skewness  1372 non-null   float64\n",
      " 2   curtosis  1372 non-null   float64\n",
      " 3   entropy   1372 non-null   float64\n",
      " 4   class     1372 non-null   int64  \n",
      "dtypes: float64(4), int64(1)\n",
      "memory usage: 53.7 KB\n"
     ]
    }
   ],
   "source": [
    "df.info()"
   ]
  },
  {
   "cell_type": "code",
   "execution_count": 5,
   "metadata": {
    "execution": {
     "iopub.execute_input": "2022-04-05T12:36:44.257826Z",
     "iopub.status.busy": "2022-04-05T12:36:44.257350Z",
     "iopub.status.idle": "2022-04-05T12:36:44.263477Z",
     "shell.execute_reply": "2022-04-05T12:36:44.262557Z",
     "shell.execute_reply.started": "2022-04-05T12:36:44.257791Z"
    }
   },
   "outputs": [
    {
     "data": {
      "text/plain": [
       "(1372, 5)"
      ]
     },
     "execution_count": 5,
     "metadata": {},
     "output_type": "execute_result"
    }
   ],
   "source": [
    "df.shape"
   ]
  },
  {
   "cell_type": "code",
   "execution_count": 6,
   "metadata": {
    "execution": {
     "iopub.execute_input": "2022-04-05T12:36:31.804890Z",
     "iopub.status.busy": "2022-04-05T12:36:31.804248Z",
     "iopub.status.idle": "2022-04-05T12:36:31.808722Z",
     "shell.execute_reply": "2022-04-05T12:36:31.808194Z",
     "shell.execute_reply.started": "2022-04-05T12:36:31.804851Z"
    }
   },
   "outputs": [],
   "source": [
    "X = df.iloc[: , :-1]"
   ]
  },
  {
   "cell_type": "code",
   "execution_count": 7,
   "metadata": {
    "execution": {
     "iopub.execute_input": "2022-04-05T12:31:15.131286Z",
     "iopub.status.busy": "2022-04-05T12:31:15.130903Z",
     "iopub.status.idle": "2022-04-05T12:31:15.140069Z",
     "shell.execute_reply": "2022-04-05T12:31:15.139599Z",
     "shell.execute_reply.started": "2022-04-05T12:31:15.131260Z"
    }
   },
   "outputs": [
    {
     "data": {
      "text/html": [
       "<div>\n",
       "<style scoped>\n",
       "    .dataframe tbody tr th:only-of-type {\n",
       "        vertical-align: middle;\n",
       "    }\n",
       "\n",
       "    .dataframe tbody tr th {\n",
       "        vertical-align: top;\n",
       "    }\n",
       "\n",
       "    .dataframe thead th {\n",
       "        text-align: right;\n",
       "    }\n",
       "</style>\n",
       "<table border=\"1\" class=\"dataframe\">\n",
       "  <thead>\n",
       "    <tr style=\"text-align: right;\">\n",
       "      <th></th>\n",
       "      <th>variance</th>\n",
       "      <th>skewness</th>\n",
       "      <th>curtosis</th>\n",
       "      <th>entropy</th>\n",
       "    </tr>\n",
       "  </thead>\n",
       "  <tbody>\n",
       "    <tr>\n",
       "      <th>0</th>\n",
       "      <td>3.62160</td>\n",
       "      <td>8.6661</td>\n",
       "      <td>-2.8073</td>\n",
       "      <td>-0.44699</td>\n",
       "    </tr>\n",
       "    <tr>\n",
       "      <th>1</th>\n",
       "      <td>4.54590</td>\n",
       "      <td>8.1674</td>\n",
       "      <td>-2.4586</td>\n",
       "      <td>-1.46210</td>\n",
       "    </tr>\n",
       "    <tr>\n",
       "      <th>2</th>\n",
       "      <td>3.86600</td>\n",
       "      <td>-2.6383</td>\n",
       "      <td>1.9242</td>\n",
       "      <td>0.10645</td>\n",
       "    </tr>\n",
       "    <tr>\n",
       "      <th>3</th>\n",
       "      <td>3.45660</td>\n",
       "      <td>9.5228</td>\n",
       "      <td>-4.0112</td>\n",
       "      <td>-3.59440</td>\n",
       "    </tr>\n",
       "    <tr>\n",
       "      <th>4</th>\n",
       "      <td>0.32924</td>\n",
       "      <td>-4.4552</td>\n",
       "      <td>4.5718</td>\n",
       "      <td>-0.98880</td>\n",
       "    </tr>\n",
       "  </tbody>\n",
       "</table>\n",
       "</div>"
      ],
      "text/plain": [
       "   variance  skewness  curtosis  entropy\n",
       "0   3.62160    8.6661   -2.8073 -0.44699\n",
       "1   4.54590    8.1674   -2.4586 -1.46210\n",
       "2   3.86600   -2.6383    1.9242  0.10645\n",
       "3   3.45660    9.5228   -4.0112 -3.59440\n",
       "4   0.32924   -4.4552    4.5718 -0.98880"
      ]
     },
     "execution_count": 7,
     "metadata": {},
     "output_type": "execute_result"
    }
   ],
   "source": [
    "X.head()"
   ]
  },
  {
   "cell_type": "code",
   "execution_count": 8,
   "metadata": {
    "execution": {
     "iopub.execute_input": "2022-04-05T12:32:26.097126Z",
     "iopub.status.busy": "2022-04-05T12:32:26.096373Z",
     "iopub.status.idle": "2022-04-05T12:32:26.101632Z",
     "shell.execute_reply": "2022-04-05T12:32:26.100712Z",
     "shell.execute_reply.started": "2022-04-05T12:32:26.097087Z"
    }
   },
   "outputs": [],
   "source": [
    "y = df.iloc[:, -1:]"
   ]
  },
  {
   "cell_type": "code",
   "execution_count": 9,
   "metadata": {
    "execution": {
     "iopub.execute_input": "2022-04-05T12:32:27.166229Z",
     "iopub.status.busy": "2022-04-05T12:32:27.165775Z",
     "iopub.status.idle": "2022-04-05T12:32:27.172726Z",
     "shell.execute_reply": "2022-04-05T12:32:27.171918Z",
     "shell.execute_reply.started": "2022-04-05T12:32:27.166185Z"
    }
   },
   "outputs": [
    {
     "data": {
      "text/html": [
       "<div>\n",
       "<style scoped>\n",
       "    .dataframe tbody tr th:only-of-type {\n",
       "        vertical-align: middle;\n",
       "    }\n",
       "\n",
       "    .dataframe tbody tr th {\n",
       "        vertical-align: top;\n",
       "    }\n",
       "\n",
       "    .dataframe thead th {\n",
       "        text-align: right;\n",
       "    }\n",
       "</style>\n",
       "<table border=\"1\" class=\"dataframe\">\n",
       "  <thead>\n",
       "    <tr style=\"text-align: right;\">\n",
       "      <th></th>\n",
       "      <th>class</th>\n",
       "    </tr>\n",
       "  </thead>\n",
       "  <tbody>\n",
       "    <tr>\n",
       "      <th>0</th>\n",
       "      <td>0</td>\n",
       "    </tr>\n",
       "    <tr>\n",
       "      <th>1</th>\n",
       "      <td>0</td>\n",
       "    </tr>\n",
       "    <tr>\n",
       "      <th>2</th>\n",
       "      <td>0</td>\n",
       "    </tr>\n",
       "    <tr>\n",
       "      <th>3</th>\n",
       "      <td>0</td>\n",
       "    </tr>\n",
       "    <tr>\n",
       "      <th>4</th>\n",
       "      <td>0</td>\n",
       "    </tr>\n",
       "  </tbody>\n",
       "</table>\n",
       "</div>"
      ],
      "text/plain": [
       "   class\n",
       "0      0\n",
       "1      0\n",
       "2      0\n",
       "3      0\n",
       "4      0"
      ]
     },
     "execution_count": 9,
     "metadata": {},
     "output_type": "execute_result"
    }
   ],
   "source": [
    "y.head()"
   ]
  },
  {
   "cell_type": "code",
   "execution_count": 10,
   "metadata": {
    "execution": {
     "iopub.execute_input": "2022-04-05T12:33:43.904385Z",
     "iopub.status.busy": "2022-04-05T12:33:43.904101Z",
     "iopub.status.idle": "2022-04-05T12:33:44.802838Z",
     "shell.execute_reply": "2022-04-05T12:33:44.802152Z",
     "shell.execute_reply.started": "2022-04-05T12:33:43.904358Z"
    }
   },
   "outputs": [],
   "source": [
    "from sklearn.model_selection import train_test_split"
   ]
  },
  {
   "cell_type": "code",
   "execution_count": 11,
   "metadata": {
    "execution": {
     "iopub.execute_input": "2022-04-05T12:35:23.925025Z",
     "iopub.status.busy": "2022-04-05T12:35:23.924353Z",
     "iopub.status.idle": "2022-04-05T12:35:23.931980Z",
     "shell.execute_reply": "2022-04-05T12:35:23.931461Z",
     "shell.execute_reply.started": "2022-04-05T12:35:23.924977Z"
    }
   },
   "outputs": [],
   "source": [
    "X_train, x_test, y_train, y_test = train_test_split(X, y, test_size=0.25, random_state = 0)"
   ]
  },
  {
   "cell_type": "code",
   "execution_count": 12,
   "metadata": {
    "execution": {
     "iopub.execute_input": "2022-04-05T12:36:58.529786Z",
     "iopub.status.busy": "2022-04-05T12:36:58.529250Z",
     "iopub.status.idle": "2022-04-05T12:36:58.534211Z",
     "shell.execute_reply": "2022-04-05T12:36:58.533583Z",
     "shell.execute_reply.started": "2022-04-05T12:36:58.529752Z"
    }
   },
   "outputs": [
    {
     "data": {
      "text/plain": [
       "(1029, 4)"
      ]
     },
     "execution_count": 12,
     "metadata": {},
     "output_type": "execute_result"
    }
   ],
   "source": [
    "X_train.shape"
   ]
  },
  {
   "cell_type": "code",
   "execution_count": 13,
   "metadata": {
    "execution": {
     "iopub.execute_input": "2022-04-05T12:37:02.515505Z",
     "iopub.status.busy": "2022-04-05T12:37:02.515198Z",
     "iopub.status.idle": "2022-04-05T12:37:02.520365Z",
     "shell.execute_reply": "2022-04-05T12:37:02.519650Z",
     "shell.execute_reply.started": "2022-04-05T12:37:02.515472Z"
    }
   },
   "outputs": [
    {
     "data": {
      "text/plain": [
       "(343, 4)"
      ]
     },
     "execution_count": 13,
     "metadata": {},
     "output_type": "execute_result"
    }
   ],
   "source": [
    "x_test.shape"
   ]
  },
  {
   "cell_type": "code",
   "execution_count": 14,
   "metadata": {
    "execution": {
     "iopub.execute_input": "2022-04-05T12:37:49.264908Z",
     "iopub.status.busy": "2022-04-05T12:37:49.264458Z",
     "iopub.status.idle": "2022-04-05T12:37:49.330433Z",
     "shell.execute_reply": "2022-04-05T12:37:49.329778Z",
     "shell.execute_reply.started": "2022-04-05T12:37:49.264873Z"
    }
   },
   "outputs": [],
   "source": [
    "from sklearn.svm import SVC"
   ]
  },
  {
   "cell_type": "code",
   "execution_count": 15,
   "metadata": {
    "execution": {
     "iopub.execute_input": "2022-04-05T12:38:30.863603Z",
     "iopub.status.busy": "2022-04-05T12:38:30.863030Z",
     "iopub.status.idle": "2022-04-05T12:38:30.867155Z",
     "shell.execute_reply": "2022-04-05T12:38:30.866374Z",
     "shell.execute_reply.started": "2022-04-05T12:38:30.863563Z"
    }
   },
   "outputs": [],
   "source": [
    "classifier = SVC(kernel='linear', random_state = 0)"
   ]
  },
  {
   "cell_type": "code",
   "execution_count": 16,
   "metadata": {
    "execution": {
     "iopub.execute_input": "2022-04-05T12:38:55.894803Z",
     "iopub.status.busy": "2022-04-05T12:38:55.893976Z",
     "iopub.status.idle": "2022-04-05T12:38:55.915011Z",
     "shell.execute_reply": "2022-04-05T12:38:55.914221Z",
     "shell.execute_reply.started": "2022-04-05T12:38:55.894752Z"
    }
   },
   "outputs": [
    {
     "name": "stderr",
     "output_type": "stream",
     "text": [
      "F:\\Anaconda\\lib\\site-packages\\sklearn\\utils\\validation.py:63: DataConversionWarning: A column-vector y was passed when a 1d array was expected. Please change the shape of y to (n_samples, ), for example using ravel().\n",
      "  return f(*args, **kwargs)\n"
     ]
    },
    {
     "data": {
      "text/plain": [
       "SVC(kernel='linear', random_state=0)"
      ]
     },
     "execution_count": 16,
     "metadata": {},
     "output_type": "execute_result"
    }
   ],
   "source": [
    "classifier.fit(X_train, y_train)"
   ]
  },
  {
   "cell_type": "code",
   "execution_count": 17,
   "metadata": {
    "execution": {
     "iopub.execute_input": "2022-04-05T12:39:50.756032Z",
     "iopub.status.busy": "2022-04-05T12:39:50.755545Z",
     "iopub.status.idle": "2022-04-05T12:39:50.761392Z",
     "shell.execute_reply": "2022-04-05T12:39:50.760868Z",
     "shell.execute_reply.started": "2022-04-05T12:39:50.755992Z"
    }
   },
   "outputs": [],
   "source": [
    "y_pred = classifier.predict(x_test)"
   ]
  },
  {
   "cell_type": "code",
   "execution_count": 18,
   "metadata": {
    "execution": {
     "iopub.execute_input": "2022-04-05T12:40:38.927335Z",
     "iopub.status.busy": "2022-04-05T12:40:38.926734Z",
     "iopub.status.idle": "2022-04-05T12:40:38.930378Z",
     "shell.execute_reply": "2022-04-05T12:40:38.929812Z",
     "shell.execute_reply.started": "2022-04-05T12:40:38.927301Z"
    }
   },
   "outputs": [],
   "source": [
    "from sklearn.metrics import confusion_matrix"
   ]
  },
  {
   "cell_type": "code",
   "execution_count": 19,
   "metadata": {
    "execution": {
     "iopub.execute_input": "2022-04-05T12:41:19.738641Z",
     "iopub.status.busy": "2022-04-05T12:41:19.737887Z",
     "iopub.status.idle": "2022-04-05T12:41:19.746467Z",
     "shell.execute_reply": "2022-04-05T12:41:19.745715Z",
     "shell.execute_reply.started": "2022-04-05T12:41:19.738596Z"
    }
   },
   "outputs": [],
   "source": [
    "cm = confusion_matrix(y_test, y_pred)"
   ]
  },
  {
   "cell_type": "code",
   "execution_count": 20,
   "metadata": {
    "execution": {
     "iopub.execute_input": "2022-04-05T12:41:25.931464Z",
     "iopub.status.busy": "2022-04-05T12:41:25.931167Z",
     "iopub.status.idle": "2022-04-05T12:41:25.936620Z",
     "shell.execute_reply": "2022-04-05T12:41:25.935774Z",
     "shell.execute_reply.started": "2022-04-05T12:41:25.931432Z"
    }
   },
   "outputs": [
    {
     "data": {
      "text/plain": [
       "array([[190,   5],\n",
       "       [  0, 148]], dtype=int64)"
      ]
     },
     "execution_count": 20,
     "metadata": {},
     "output_type": "execute_result"
    }
   ],
   "source": [
    "cm"
   ]
  },
  {
   "cell_type": "markdown",
   "metadata": {},
   "source": [
    "correct predictiction = 190+148 = **338**\n",
    "incorrect predictions = 0+5 = **5**"
   ]
  },
  {
   "cell_type": "code",
   "execution_count": 21,
   "metadata": {
    "execution": {
     "iopub.execute_input": "2022-04-05T12:52:29.366091Z",
     "iopub.status.busy": "2022-04-05T12:52:29.365712Z",
     "iopub.status.idle": "2022-04-05T12:52:29.370558Z",
     "shell.execute_reply": "2022-04-05T12:52:29.369821Z",
     "shell.execute_reply.started": "2022-04-05T12:52:29.366053Z"
    }
   },
   "outputs": [],
   "source": [
    "from sklearn.metrics import accuracy_score"
   ]
  },
  {
   "cell_type": "code",
   "execution_count": 22,
   "metadata": {
    "execution": {
     "iopub.execute_input": "2022-04-05T12:53:07.033805Z",
     "iopub.status.busy": "2022-04-05T12:53:07.032858Z",
     "iopub.status.idle": "2022-04-05T12:53:07.038174Z",
     "shell.execute_reply": "2022-04-05T12:53:07.037366Z",
     "shell.execute_reply.started": "2022-04-05T12:53:07.033767Z"
    }
   },
   "outputs": [],
   "source": [
    "score = accuracy_score(y_test, y_pred)"
   ]
  },
  {
   "cell_type": "code",
   "execution_count": 23,
   "metadata": {
    "execution": {
     "iopub.execute_input": "2022-04-05T12:53:10.111759Z",
     "iopub.status.busy": "2022-04-05T12:53:10.111496Z",
     "iopub.status.idle": "2022-04-05T12:53:10.116740Z",
     "shell.execute_reply": "2022-04-05T12:53:10.116232Z",
     "shell.execute_reply.started": "2022-04-05T12:53:10.111733Z"
    }
   },
   "outputs": [
    {
     "data": {
      "text/plain": [
       "0.9854227405247813"
      ]
     },
     "execution_count": 23,
     "metadata": {},
     "output_type": "execute_result"
    }
   ],
   "source": [
    "score"
   ]
  },
  {
   "cell_type": "code",
   "execution_count": 24,
   "metadata": {},
   "outputs": [],
   "source": [
    "import pickle"
   ]
  },
  {
   "cell_type": "code",
   "execution_count": 25,
   "metadata": {},
   "outputs": [],
   "source": [
    "pickle_out = open('classifier.pkl', 'wb')\n",
    "pickle.dump(classifier, pickle_out)\n",
    "pickle_out.close()"
   ]
  },
  {
   "cell_type": "code",
   "execution_count": null,
   "metadata": {},
   "outputs": [],
   "source": []
  }
 ],
 "metadata": {
  "kernelspec": {
   "display_name": "Python 3 (ipykernel)",
   "language": "python",
   "name": "python3"
  },
  "language_info": {
   "codemirror_mode": {
    "name": "ipython",
    "version": 3
   },
   "file_extension": ".py",
   "mimetype": "text/x-python",
   "name": "python",
   "nbconvert_exporter": "python",
   "pygments_lexer": "ipython3",
   "version": "3.9.7"
  }
 },
 "nbformat": 4,
 "nbformat_minor": 4
}
